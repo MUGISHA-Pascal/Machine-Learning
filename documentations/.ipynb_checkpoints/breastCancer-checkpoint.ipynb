{
 "cells": [
  {
   "cell_type": "markdown",
   "id": "dbc35e18-098e-4e6a-b182-2dbd6c945b09",
   "metadata": {},
   "source": [
    "# using logistic regression with breast cancer dataset from sklearn"
   ]
  },
  {
   "cell_type": "markdown",
   "id": "14280ef6-836f-41c5-84b8-6a06d2637d71",
   "metadata": {},
   "source": [
    "# importing important components"
   ]
  },
  {
   "cell_type": "code",
   "execution_count": 22,
   "id": "5fae0ae1-9aad-4b4f-86c2-f8fd8a901637",
   "metadata": {},
   "outputs": [],
   "source": [
    "from sklearn.datasets import load_breast_cancer\n",
    "from sklearn.linear_model import LogisticRegression\n",
    "from sklearn.model_selection import train_test_split\n",
    "from sklearn.preprocessing import StandardScaler\n",
    "from sklearn.metrics import accuracy_score , confusion_matrix , classification_report\n",
    "import pandas as pd"
   ]
  },
  {
   "cell_type": "markdown",
   "id": "bb9b210a-508f-44a8-a758-ab60330a5d1c",
   "metadata": {},
   "source": [
    "# loading data "
   ]
  },
  {
   "cell_type": "code",
   "execution_count": 23,
   "id": "f7b2cfaa-e4c9-40b6-83b7-7b1c1b06c7cf",
   "metadata": {},
   "outputs": [],
   "source": [
    "data = load_breast_cancer()\n",
    "pdData = pd.DataFrame(data.data,columns=data.feature_names)\n",
    "pdData[\"target\"]=data.target\n",
    "x=pdData.drop(\"target\",axis=1)\n",
    "y=pdData[\"target\"]"
   ]
  },
  {
   "cell_type": "markdown",
   "id": "f080d5ab-fc54-4860-ba05-aa3e5d03fc1a",
   "metadata": {},
   "source": [
    "# splitting data into testing and training"
   ]
  },
  {
   "cell_type": "code",
   "execution_count": null,
   "id": "5e3467f3-a3e1-4f43-9d68-a5e92c0052f1",
   "metadata": {},
   "outputs": [],
   "source": [
    "x_train,x_test,y_train,y_test = train_test_split(x,y,test_size=0.2)"
   ]
  },
  {
   "cell_type": "code",
   "execution_count": null,
   "id": "2856d2e3-5249-411f-bbcc-2422fde6e61e",
   "metadata": {},
   "outputs": [],
   "source": []
  }
 ],
 "metadata": {
  "kernelspec": {
   "display_name": "Python 3 (ipykernel)",
   "language": "python",
   "name": "python3"
  },
  "language_info": {
   "codemirror_mode": {
    "name": "ipython",
    "version": 3
   },
   "file_extension": ".py",
   "mimetype": "text/x-python",
   "name": "python",
   "nbconvert_exporter": "python",
   "pygments_lexer": "ipython3",
   "version": "3.12.5"
  }
 },
 "nbformat": 4,
 "nbformat_minor": 5
}
