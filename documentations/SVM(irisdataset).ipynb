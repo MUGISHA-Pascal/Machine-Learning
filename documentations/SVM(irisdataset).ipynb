{
 "cells": [
  {
   "cell_type": "markdown",
   "id": "eb878e80-2093-4f4d-a813-8a07825f4153",
   "metadata": {},
   "source": [
    "# SVM with iris dataset"
   ]
  },
  {
   "cell_type": "markdown",
   "id": "cbebec81-164e-45d3-a3a6-734eac5c4cc1",
   "metadata": {},
   "source": [
    "# loading important modules"
   ]
  },
  {
   "cell_type": "code",
   "execution_count": null,
   "id": "73bff336-bd78-4f05-b2e6-7991660ab1a3",
   "metadata": {},
   "outputs": [],
   "source": [
    "import pandas as pd\n",
    "from sklearn.datasets import load_iris\n",
    "from sklearn.metrics import accuracy_score,confusion_matrix,classification_report\n",
    "from sklearn.model_selection import train_test_split\n",
    "import matplotlib as plt\n",
    "from sklearn.SVM import SVC"
   ]
  },
  {
   "cell_type": "markdown",
   "id": "4d63dc8d-49f2-4102-8a4d-7cea0d5e4280",
   "metadata": {},
   "source": [
    "# loading data into x and y axis"
   ]
  },
  {
   "cell_type": "code",
   "execution_count": null,
   "id": "70475161-87ad-443c-ae7b-f1a3f901dcde",
   "metadata": {},
   "outputs": [],
   "source": [
    "data_bunch = load_iris()\n",
    "data= pd.DataFrame(data_bunch.data,columns=data_bunch.target_names)\n",
    "data[\"species\"]= data_bunch.target\n",
    "x = data.drop(\"species\",axis=1)\n",
    "y = data[\"species\"]"
   ]
  }
 ],
 "metadata": {
  "kernelspec": {
   "display_name": "Python 3 (ipykernel)",
   "language": "python",
   "name": "python3"
  },
  "language_info": {
   "codemirror_mode": {
    "name": "ipython",
    "version": 3
   },
   "file_extension": ".py",
   "mimetype": "text/x-python",
   "name": "python",
   "nbconvert_exporter": "python",
   "pygments_lexer": "ipython3",
   "version": "3.12.5"
  }
 },
 "nbformat": 4,
 "nbformat_minor": 5
}
