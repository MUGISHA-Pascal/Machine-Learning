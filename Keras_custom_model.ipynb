{
 "cells": [
  {
   "cell_type": "code",
   "execution_count": null,
   "metadata": {},
   "outputs": [],
   "source": [
    "import tensorflow as tf\n",
    "import tensorflow.compat.v1 as tf1"
   ]
  },
  {
   "cell_type": "code",
   "execution_count": null,
   "metadata": {},
   "outputs": [],
   "source": [
    "features = [[1., 1.5], [2., 2.5], [3., 3.5]]\n",
    "labels = [[0.3], [0.5], [0.7]]\n",
    "eval_features = [[4., 4.5], [5., 5.5], [6., 6.5]]\n",
    "eval_labels = [[0.8], [0.9], [1.]]"
   ]
  },
  {
   "cell_type": "code",
   "execution_count": null,
   "metadata": {},
   "outputs": [],
   "source": [
    "class CustomModel(tf.keras.Sequential):\n",
    "    def train_step(self,data):\n",
    "        batch_data,labels=data"
   ]
  },
  {
   "cell_type": "markdown",
   "metadata": {},
   "source": [
    "after backpropagation"
   ]
  }
 ],
 "metadata": {
  "language_info": {
   "name": "python"
  }
 },
 "nbformat": 4,
 "nbformat_minor": 2
}
